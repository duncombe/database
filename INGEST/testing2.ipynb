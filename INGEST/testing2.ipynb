{
 "cells": [
  {
   "cell_type": "code",
   "execution_count": 1,
   "metadata": {
    "collapsed": true
   },
   "outputs": [],
   "source": [
    "from lxml import etree\n",
    "import getopt\n",
    "import uuid\n",
    "import datetime\n",
    "import dateutil.parser\n",
    "import sys\n",
    "import os\n",
    "import getpass\n"
   ]
  },
  {
   "cell_type": "code",
   "execution_count": 2,
   "metadata": {
    "collapsed": true
   },
   "outputs": [],
   "source": [
    "def IDdateformat(DateTimeObject):\n",
    "    return DateTimeObject.__format__('%Y%m%dT%H%M')\n",
    "\n",
    "def validate_uuid(Ustr):\n",
    "# Ustr is a string purporting to be a version 4 UUID \n",
    "    try:\n",
    "        # convert Ustr to a v4 UUID\n",
    "        V=uuid.UUID(Ustr,version=4)\n",
    "    except:\n",
    "        # string is not a UUID of any description\n",
    "        return False\n",
    "    # string is or is not a valid v4 UUID\n",
    "    return Ustr == str(V)\n",
    "\n",
    "\n",
    "def argument_help():\n",
    "        helptext=[\" \",\n",
    "sys.argv[0]+\" -h [[-i file] [-o file]] | [-f file] [-t file] [[[-u] [-d]] | -a]\"\n",
    "\"       -h : help\",\n",
    "\"       -i : input metadata file (XML)\",\n",
    "\"       -o : output metadata file \",\n",
    "\"       -f : read and write to the same file\",\n",
    "\"       -t : read from a tab seperated table in the form\",\n",
    "\"               Key\\\\tValue\",\n",
    "\"               Key and Value will be added to metadata in file\",\n",
    "\"       -u : uuid for the collection\",\n",
    "\"       -a : accession string for the collection\",\n",
    "\"       -d : accession date for the collection\"]\n",
    "        for i in helptext:\n",
    "                print i\n",
    "        exit()\n"
   ]
  },
  {
   "cell_type": "code",
   "execution_count": 3,
   "metadata": {
    "collapsed": true
   },
   "outputs": [],
   "source": [
    "   root = accdate = collectionID = inputfile = outputfile = tablefile = \\\n",
    "        None\n"
   ]
  },
  {
   "cell_type": "code",
   "execution_count": 4,
   "metadata": {
    "collapsed": false
   },
   "outputs": [
    {
     "name": "stdout",
     "output_type": "stream",
     "text": [
      "Reading old metadata from: None\n",
      "Writing new metadata to: None\n",
      "Adding metadata from: None\n",
      "UUID: None\n",
      "Date: None\n"
     ]
    }
   ],
   "source": [
    "   # regurgitate arguments\n",
    "   print \"Reading old metadata from:\", inputfile\n",
    "   print \"Writing new metadata to:\", outputfile\n",
    "   print \"Adding metadata from:\", tablefile\n",
    "   print \"UUID:\", collectionID\n",
    "   print \"Date:\", accdate\n"
   ]
  },
  {
   "cell_type": "code",
   "execution_count": 5,
   "metadata": {
    "collapsed": true
   },
   "outputs": [],
   "source": [
    "   metadict=dict()\n",
    "   if tablefile is not None:\n",
    "        with open(tablefile,'r') as f:\n",
    "                metadata=f.read()\n",
    "                metadict = dict(x.split(None,1) for x in metadata.splitlines())\n",
    "\n",
    "\n"
   ]
  },
  {
   "cell_type": "code",
   "execution_count": 7,
   "metadata": {
    "collapsed": false
   },
   "outputs": [],
   "source": [
    "   if inputfile is not None:\n",
    "        # load in the input file\n",
    "        # infile=open(inputfile,\"r\")\n",
    "        root = etree.parse(inputfile)\n",
    "        # find the uuid (collectionID) and accdate in root\n",
    "        for e in root.iterfind('*/accessionDateTime/CharacterString'):\n",
    "                accdate=e.text\n",
    "        for e in root.iterfind('*/accessionUUID/CharacterString'):\n",
    "                collectionID=e.text\n",
    "\n"
   ]
  },
  {
   "cell_type": "code",
   "execution_count": 9,
   "metadata": {
    "collapsed": false
   },
   "outputs": [],
   "source": [
    "   if collectionID is None:\n",
    "      collectionID=str(uuid.uuid4())\n",
    "\n",
    "   # get a time for the accession\n",
    "   if accdate is None:\n",
    "      accdate=datetime.datetime.utcnow().isoformat()\n",
    "\n"
   ]
  },
  {
   "cell_type": "code",
   "execution_count": 11,
   "metadata": {
    "collapsed": true
   },
   "outputs": [],
   "source": [
    "   if root is None:\n",
    "        root = etree.Element('Metadata')\n",
    "\n"
   ]
  },
  {
   "cell_type": "code",
   "execution_count": 14,
   "metadata": {
    "collapsed": false
   },
   "outputs": [],
   "source": [
    "   accdate=datetime.datetime.utcnow().isoformat()\n",
    "    \n",
    "   D=dateutil.parser.parse(accdate)\n"
   ]
  },
  {
   "cell_type": "code",
   "execution_count": 15,
   "metadata": {
    "collapsed": false
   },
   "outputs": [
    {
     "data": {
      "text/plain": [
       "datetime.datetime(2015, 9, 29, 11, 10, 30, 190169)"
      ]
     },
     "execution_count": 15,
     "metadata": {},
     "output_type": "execute_result"
    }
   ],
   "source": [
    "D"
   ]
  }
 ],
 "metadata": {
  "kernelspec": {
   "display_name": "Python 2",
   "language": "python",
   "name": "python2"
  },
  "language_info": {
   "codemirror_mode": {
    "name": "ipython",
    "version": 2
   },
   "file_extension": ".py",
   "mimetype": "text/x-python",
   "name": "python",
   "nbconvert_exporter": "python",
   "pygments_lexer": "ipython2",
   "version": "2.7.10"
  }
 },
 "nbformat": 4,
 "nbformat_minor": 0
}
