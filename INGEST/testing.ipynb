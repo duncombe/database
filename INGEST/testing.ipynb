{
 "cells": [
  {
   "cell_type": "code",
   "execution_count": 1,
   "metadata": {
    "collapsed": true
   },
   "outputs": [],
   "source": [
    "import os\n",
    "import getopt\n",
    "import sys\n",
    "import uuid\n",
    "from lxml import etree"
   ]
  },
  {
   "cell_type": "code",
   "execution_count": 2,
   "metadata": {
    "collapsed": true
   },
   "outputs": [],
   "source": [
    "def validate_uuid(Ustr):\n",
    "# Ustr is a string purporting to be a version 4 UUID\n",
    "    try:\n",
    "        V=uuid.UUID(Ustr,version=4)\n",
    "    except:\n",
    "        # string is not a UUID of any description\n",
    "        return False\n",
    "    # string is or is not a valid v4 UUID\n",
    "    Vstr=str(V)\n",
    "    return Ustr == Vstr"
   ]
  },
  {
   "cell_type": "code",
   "execution_count": 3,
   "metadata": {
    "collapsed": true
   },
   "outputs": [],
   "source": [
    "   accdate = collectionID = inputfile = outputfile = tablefile = None\n",
    "   "
   ]
  },
  {
   "cell_type": "code",
   "execution_count": 4,
   "metadata": {
    "collapsed": true
   },
   "outputs": [],
   "source": [
    " #  for opt, arg in opts:\n",
    " #     if opt in (\"-h\", \"--help\"):\n",
    " #        print 'test.py -i <inputfile> -o <outputfile>'\n",
    " #        sys.exit()\n",
    " #     elif opt in (\"-i\", \"--ifile\"):\n",
    " #        inputfile = arg\n",
    " #     elif opt in (\"-o\", \"--ofile\"):\n",
    " #        outputfile = arg\n",
    " #     elif opt in (\"-t\", \"--table\"):\n",
    " #        tablefile = arg\n",
    " #     elif opt in (\"-f\", \"--file\"):\n",
    " #        inputfile = arg\n",
    " #        outputfile = arg\n",
    " #     elif opt in (\"-u\", \"--uuid\"):\n",
    " #        if validate_uuid(arg):\n",
    " #           collectionID=uuid.UUID(arg)\n",
    " #        else:\n",
    " #           print arg, \"was provided as a UUID, but is not a valid v4 UUID.\"\n",
    " #           print \"A valid v4 UUID will be generated.\"\n",
    " #     elif opt in (\"-a\", \"--accession\"):\n",
    " #        accdate=arg.split(\"=\")[0]\n",
    " #        collectionID=arg.split(\"=\")[1]\n",
    " #     elif opt in (\"-d\", \"--date\"):\n",
    " #        accdate=arg\n"
   ]
  },
  {
   "cell_type": "code",
   "execution_count": 5,
   "metadata": {
    "collapsed": false
   },
   "outputs": [
    {
     "name": "stdout",
     "output_type": "stream",
     "text": [
      "Reading old metadata from: None\n",
      "Writing new metadata to: None\n",
      "Adding metadata from: None\n",
      "UUID: None\n",
      "date: None\n"
     ]
    }
   ],
   "source": [
    "   \n",
    "   print \"Reading old metadata from:\", inputfile\n",
    "   print \"Writing new metadata to:\", outputfile\n",
    "   print \"Adding metadata from:\", tablefile\n",
    "   print \"UUID:\", collectionID\n",
    "   print \"date:\", accdate\n",
    "\n",
    "   tree = etree.parse(\"MD-file.xml\").getroot()"
   ]
  },
  {
   "cell_type": "code",
   "execution_count": 6,
   "metadata": {
    "collapsed": false
   },
   "outputs": [
    {
     "name": "stdout",
     "output_type": "stream",
     "text": [
      "Metadata {} \n",
      "  \n",
      "accession {} \n",
      "    \n",
      "accessionDateTime {} \n",
      "      \n",
      "CharacterString {} 2015-09-18T10:49:43.745182\n",
      "accessionUUID {} \n",
      "      \n",
      "CharacterString {} a5c63143-a859-4428-9a25-4a73069671c4\n",
      "accessionIdentifier {} \n",
      "      \n",
      "CharacterString {} ocean.environment.gov.za:20150918T1049=a5c63143-a859-4428-9a25-4a73069671c4\n",
      "contact {} \n",
      "      \n",
      "CI_responsibleParty {} \n",
      "        \n",
      "organizationName {} \n",
      "          \n",
      "CharacterString {} DEA/OC/OCR/OR > Oceans Research, Oceans and Coastal Research, Oceans and Coasts, Department of Environmental Affairs\n",
      "positionName {} \n",
      "          \n",
      "CharacterString {} Data Officer\n",
      "contactInfo {} \n",
      "          \n",
      "CI_contact {} \n",
      "            \n",
      "phone {} \n",
      "              \n",
      "CI_telephone {} \n",
      "                \n",
      "voice {} \n",
      "                  \n",
      "CharacterString {} +27-21-819-5003\n",
      "address {} \n",
      "              \n",
      "CI_address {} \n",
      "                \n",
      "deliveryPoint {} \n",
      "                  \n",
      "CharacterString {} East Pier\n",
      "city {} \n",
      "                  \n",
      "CharacterString {} Cape Town\n",
      "administrativeArea {} \n",
      "                  \n",
      "CharacterString {} Western Cape\n",
      "country {} \n",
      "                  \n",
      "CharacterString {} South Africa\n",
      "electronicMailAddress {} \n",
      "                  \n",
      "CharacterString {} dataofficer@ocean.environment.gov.za\n",
      "role {} \n",
      "          \n",
      "CI_RoleCode {'codeList': 'http://www.isotc211.org/2005/resources/Codelist/gmxCodelists.xml#CI_RoleCode', 'codeListValue': 'custodian'} custodian\n",
      "dateStamp {} \n",
      "      \n",
      "DateTime {} 2015-09-18T10:49:43.745182\n",
      "IndetificationInfo {} \n",
      "    \n",
      "citation {} \n",
      "      \n",
      "title {} \n",
      "        \n",
      "CharacterString {} This is a title for the dataset, something reasonably descriptive, with some additional information making it useful and even possibly unique.  \n",
      "abstract {} \n",
      "        \n",
      "CharacterString {} This is an abstract about the data. Some short information\n"
     ]
    }
   ],
   "source": [
    "# for e in tree.iter(\"accessionDateTime\"):\n",
    "for e in tree.iter():\n",
    "   # print(\"%s - %s\" % (e.tag, e.text))\n",
    "    print e.tag, e.attrib, e.text\n"
   ]
  },
  {
   "cell_type": "code",
   "execution_count": 7,
   "metadata": {
    "collapsed": false
   },
   "outputs": [
    {
     "name": "stdout",
     "output_type": "stream",
     "text": [
      "CharacterString {} 2015-09-18T10:49:43.745182\n",
      "CharacterString {} a5c63143-a859-4428-9a25-4a73069671c4\n"
     ]
    }
   ],
   "source": [
    "# for e in tree.iter(\"accessionDateTime\"):\n",
    "for e in tree.iterfind('*/accessionDateTime/CharacterString'):\n",
    "   # print(\"%s - %s\" % (e.tag, e.text))\n",
    "    print e.tag, e.attrib, e.text\n",
    "    accdate=e.text\n",
    "for e in tree.iterfind('*/accessionUUID/CharacterString'):\n",
    "   # print(\"%s - %s\" % (e.tag, e.text))\n",
    "    print e.tag, e.attrib, e.text\n",
    "    collectionID=e.text"
   ]
  },
  {
   "cell_type": "code",
   "execution_count": 10,
   "metadata": {
    "collapsed": false
   },
   "outputs": [
    {
     "name": "stdout",
     "output_type": "stream",
     "text": [
      "20150918T1049=a5c63143-a859-4428-9a25-4a73069671c4\n"
     ]
    }
   ],
   "source": [
    "def IDdateformat(DateTimeObject):\n",
    "    return DateTimeObject.__format__('%Y%m%dT%H%M')\n",
    "\n",
    "import datetime\n",
    "import dateutil.parser\n",
    "# import dateutil \n",
    "\n",
    "D = dateutil.parser.parse(accdate)\n",
    "IDD=IDdateformat(D)\n",
    "dateutil.parser.parse(IDD)\n",
    "print IDD+\"=\"+collectionID"
   ]
  },
  {
   "cell_type": "code",
   "execution_count": 11,
   "metadata": {
    "collapsed": false,
    "scrolled": true
   },
   "outputs": [
    {
     "name": "stdout",
     "output_type": "stream",
     "text": [
      "<accessionDateTime>\n",
      "      <CharacterString>2015-09-18T10:49:43.745182</CharacterString>\n",
      "    </accessionDateTime>\n",
      "    \n",
      "\n",
      "2015-09-18T10:49:43.745182\n",
      "\n",
      "      \n"
     ]
    }
   ],
   "source": [
    "for i in tree.iterfind(\"accession\"):\n",
    "    for j in i.iterfind(\"accessionDateTime\"):\n",
    "        print etree.tostring(j, pretty_print = True)\n",
    "        for k in j.iterfind(\"CharacterString\"):\n",
    "            print k.text\n",
    "            print j.text\n"
   ]
  },
  {
   "cell_type": "code",
   "execution_count": 12,
   "metadata": {
    "collapsed": false,
    "scrolled": true
   },
   "outputs": [
    {
     "name": "stdout",
     "output_type": "stream",
     "text": [
      "<accession>\n",
      "    <accessionDateTime>\n",
      "      <CharacterString>2015-09-18T10:49:43.745182</CharacterString>\n",
      "    </accessionDateTime>\n",
      "    <accessionUUID>\n",
      "      <CharacterString>a5c63143-a859-4428-9a25-4a73069671c4</CharacterString>\n",
      "    </accessionUUID>\n",
      "    <accessionIdentifier>\n",
      "      <CharacterString>ocean.environment.gov.za:20150918T1049=a5c63143-a859-4428-9a25-4a73069671c4</CharacterString>\n",
      "    </accessionIdentifier>\n",
      "    <contact>\n",
      "      <CI_responsibleParty>\n",
      "        <organizationName>\n",
      "          <CharacterString>DEA/OC/OCR/OR &gt; Oceans Research, Oceans and Coastal Research, Oceans and Coasts, Department of Environmental Affairs</CharacterString>\n",
      "        </organizationName>\n",
      "        <positionName>\n",
      "          <CharacterString>Data Officer</CharacterString>\n",
      "        </positionName>\n",
      "        <contactInfo>\n",
      "          <CI_contact>\n",
      "            <phone>\n",
      "              <CI_telephone>\n",
      "                <voice>\n",
      "                  <CharacterString>+27-21-819-5003</CharacterString>\n",
      "                </voice>\n",
      "              </CI_telephone>\n",
      "            </phone>\n",
      "            <address>\n",
      "              <CI_address>\n",
      "                <deliveryPoint>\n",
      "                  <CharacterString>East Pier</CharacterString>\n",
      "                </deliveryPoint>\n",
      "                <city>\n",
      "                  <CharacterString>Cape Town</CharacterString>\n",
      "                </city>\n",
      "                <administrativeArea>\n",
      "                  <CharacterString>Western Cape</CharacterString>\n",
      "                </administrativeArea>\n",
      "                <country>\n",
      "                  <CharacterString>South Africa</CharacterString>\n",
      "                </country>\n",
      "                <electronicMailAddress>\n",
      "                  <CharacterString>dataofficer@ocean.environment.gov.za</CharacterString>\n",
      "                </electronicMailAddress>\n",
      "              </CI_address>\n",
      "            </address>\n",
      "          </CI_contact>\n",
      "        </contactInfo>\n",
      "        <role>\n",
      "          <CI_RoleCode codeList=\"http://www.isotc211.org/2005/resources/Codelist/gmxCodelists.xml#CI_RoleCode\" codeListValue=\"custodian\">custodian</CI_RoleCode>\n",
      "        </role>\n",
      "      </CI_responsibleParty>\n",
      "    </contact>\n",
      "    <dateStamp>\n",
      "      <DateTime>2015-09-18T10:49:43.745182</DateTime>\n",
      "    </dateStamp>\n",
      "  </accession>\n",
      "  \n"
     ]
    }
   ],
   "source": [
    "# del Ingest\n",
    "Ingest=tree.find(\"accession\")\n",
    "if Ingest is None:\n",
    "    Ingest=etree.Element(\"accession\")\n",
    "    \n",
    "print etree.tostring(Ingest)"
   ]
  },
  {
   "cell_type": "code",
   "execution_count": 13,
   "metadata": {
    "collapsed": false,
    "scrolled": true
   },
   "outputs": [
    {
     "name": "stdout",
     "output_type": "stream",
     "text": [
      "<Metadata>\n",
      "  <accession>\n",
      "    <accessionDateTime>\n",
      "      <CharacterString>2015-09-18T10:49:43.745182</CharacterString>\n",
      "    </accessionDateTime>\n",
      "    <accessionUUID>\n",
      "      <CharacterString>a5c63143-a859-4428-9a25-4a73069671c4</CharacterString>\n",
      "    </accessionUUID>\n",
      "    <accessionIdentifier>\n",
      "      <CharacterString>ocean.environment.gov.za:20150918T1049=a5c63143-a859-4428-9a25-4a73069671c4</CharacterString>\n",
      "    </accessionIdentifier>\n",
      "    <contact>\n",
      "      <CI_responsibleParty>\n",
      "        <organizationName>\n",
      "          <CharacterString>DEA/OC/OCR/OR &gt; Oceans Research, Oceans and Coastal Research, Oceans and Coasts, Department of Environmental Affairs</CharacterString>\n",
      "        </organizationName>\n",
      "        <positionName>\n",
      "          <CharacterString>Data Officer</CharacterString>\n",
      "        </positionName>\n",
      "        <contactInfo>\n",
      "          <CI_contact>\n",
      "            <phone>\n",
      "              <CI_telephone>\n",
      "                <voice>\n",
      "                  <CharacterString>+27-21-819-5003</CharacterString>\n",
      "                </voice>\n",
      "              </CI_telephone>\n",
      "            </phone>\n",
      "            <address>\n",
      "              <CI_address>\n",
      "                <deliveryPoint>\n",
      "                  <CharacterString>East Pier</CharacterString>\n",
      "                </deliveryPoint>\n",
      "                <city>\n",
      "                  <CharacterString>Cape Town</CharacterString>\n",
      "                </city>\n",
      "                <administrativeArea>\n",
      "                  <CharacterString>Western Cape</CharacterString>\n",
      "                </administrativeArea>\n",
      "                <country>\n",
      "                  <CharacterString>South Africa</CharacterString>\n",
      "                </country>\n",
      "                <electronicMailAddress>\n",
      "                  <CharacterString>dataofficer@ocean.environment.gov.za</CharacterString>\n",
      "                </electronicMailAddress>\n",
      "              </CI_address>\n",
      "            </address>\n",
      "          </CI_contact>\n",
      "        </contactInfo>\n",
      "        <role>\n",
      "          <CI_RoleCode codeList=\"http://www.isotc211.org/2005/resources/Codelist/gmxCodelists.xml#CI_RoleCode\" codeListValue=\"custodian\">custodian</CI_RoleCode>\n",
      "        </role>\n",
      "      </CI_responsibleParty>\n",
      "    </contact>\n",
      "    <dateStamp>\n",
      "      <DateTime>2015-09-18T10:49:43.745182</DateTime>\n",
      "    </dateStamp>\n",
      "  </accession>\n",
      "  <IndetificationInfo>\n",
      "    <citation>\n",
      "      <title>\n",
      "        <CharacterString>This is a title for the dataset, something reasonably descriptive, with some additional information making it useful and even possibly unique.  </CharacterString>\n",
      "      </title>\n",
      "      <abstract>\n",
      "        <CharacterString>This is an abstract about the data. Some short information</CharacterString>\n",
      "      </abstract>\n",
      "    </citation>\n",
      "  </IndetificationInfo>\n",
      "</Metadata>\n",
      "\n"
     ]
    }
   ],
   "source": [
    "print etree.tostring(tree, pretty_print=True)"
   ]
  },
  {
   "cell_type": "code",
   "execution_count": 14,
   "metadata": {
    "collapsed": false
   },
   "outputs": [
    {
     "name": "stdout",
     "output_type": "stream",
     "text": [
      "2015-09-18T10:49:43.745182\n"
     ]
    }
   ],
   "source": [
    "print tree[0][0][0].text"
   ]
  },
  {
   "cell_type": "code",
   "execution_count": 15,
   "metadata": {
    "collapsed": false
   },
   "outputs": [
    {
     "name": "stdout",
     "output_type": "stream",
     "text": [
      "2015-09-18T10:49:43.745182\n",
      "a5c63143-a859-4428-9a25-4a73069671c4\n"
     ]
    }
   ],
   "source": [
    "root=tree\n",
    "for e in root.iterfind('*/accessionDateTime/CharacterString'):\n",
    "                accdate=e.text\n",
    "for e in root.iterfind('*/accessionUUID/CharacterString'):\n",
    "                collectionID=e.text\n",
    "\n",
    "print accdate\n",
    "print collectionID"
   ]
  },
  {
   "cell_type": "code",
   "execution_count": 16,
   "metadata": {
    "collapsed": true
   },
   "outputs": [],
   "source": [
    "   D=dateutil.parser.parse(accdate)\n",
    "\n",
    "   ingest = root.find('accession')\n",
    "   if Ingest is None:\n",
    "        Ingest = etree.Element('accession')\n",
    "        \n",
    "   AI = Ingest.find('accessionDateTime')\n",
    "   if AI is None:\n",
    "        AI=etree.SubElement(Ingest,'accessionDateTime')\n",
    "\n",
    "   CS = AI.find('CharacterString')\n",
    "   if CS is None:\n",
    "        AI.append( etree.Element('CharacterString') )\n",
    "        AI[0].text=accdate.isoformat()\n",
    "        \n",
    "   AI = Ingest.find('accessionUUID')\n",
    "   if AI is None:\n",
    "        AI=etree.SubElement(Ingest,'accessionUUID')\n",
    "        AI.append(etree.Element('CharacterString'))\n",
    "        AI[0].text=collectionID\n",
    "\n",
    "   AI = Ingest.find('accessionIdentifier')\n",
    "   if AI is None:\n",
    "        AI=etree.SubElement(Ingest,'accessionIdentifier')\n",
    "        AI.append( etree.Element('CharacterString') )\n",
    "        AI[0].text='ocean.environment.gov.za:' + accdate.__format__('%Y%m%dT%H%M')\\\n",
    "        + \"=\" + collectionID\n",
    "\n",
    "   Contact = Ingest.find('contact')\n",
    "   if Contact is None:\n",
    "        Contact=etree.SubElement(Ingest,'contact')\n",
    "        Contact.append( etree.Element( 'CI_responsibleParty' ) )\n",
    "        CI=Contact[0]\n",
    "        a=etree.SubElement(CI,'organizationName')\n",
    "        b=etree.SubElement(a,'CharacterString')\n",
    "\n",
    "        b.text='DEA/OC/OCR/OR > Oceans Research, Oceans and Coastal Research, '\\\n",
    "                + 'Oceans and Coasts, Department of Environmental Affairs'\n",
    "\n",
    "        a=etree.SubElement(CI,'positionName')\n",
    "        b=etree.SubElement(a,'CharacterString')\n",
    "        b.text='Data Officer'\n",
    "\n",
    "        a=etree.SubElement(CI,'contactInfo')\n",
    "        b=etree.SubElement(a,'CI_contact')\n",
    "        c=etree.SubElement(b,'phone')\n",
    "        d=etree.SubElement(c,'CI_telephone')\n",
    "        e=etree.SubElement(d,'voice')\n",
    "        f=etree.SubElement(e,'CharacterString')\n",
    "        f.text='+27-21-819-5003'\n",
    "\n",
    "        c=etree.SubElement(b,'address')\n",
    "        d=etree.SubElement(c,'CI_address')\n",
    "        e=etree.SubElement(d,'deliveryPoint')\n",
    "        f=etree.SubElement(e,'CharacterString')\n",
    "        f.text='East Pier'\n",
    "\n",
    "        e=etree.SubElement(d,'city')\n",
    "        f=etree.SubElement(e,'CharacterString')\n",
    "        f.text='Cape Town'\n",
    "\n",
    "        e=etree.SubElement(d,'administrativeArea')\n",
    "        f=etree.SubElement(e,'CharacterString')\n",
    "        f.text='Western Cape'\n",
    "\n",
    "        e=etree.SubElement(d,'country')\n",
    "        f=etree.SubElement(e,'CharacterString')\n",
    "        f.text='South Africa'\n",
    "\n",
    "        e=etree.SubElement(d,'electronicMailAddress')\n",
    "        f=etree.SubElement(e,'CharacterString')\n",
    "        f.text='dataofficer@ocean.environment.gov.za'\n",
    "\n",
    "        a=etree.SubElement(CI,'role')\n",
    "        b=etree.SubElement(a,'CI_RoleCode')\n",
    "        \n",
    "        b.set('codeList',\"http://www.isotc211.org/2005/resources/Codelist/gmxCodelists.xml#CI_RoleCode\")\n",
    "        b.set('codeListValue',\"custodian\")\n",
    "        b.text=\"custodian\""
   ]
  },
  {
   "cell_type": "code",
   "execution_count": 17,
   "metadata": {
    "collapsed": false
   },
   "outputs": [
    {
     "name": "stdout",
     "output_type": "stream",
     "text": [
      "<dateStamp>\n",
      "      <DateTime>2015-09-18T10:49:43.745182</DateTime>\n",
      "    </dateStamp>\n",
      "  \n"
     ]
    }
   ],
   "source": [
    "   DS = Ingest.find('dateStamp')\n",
    "   if DS is None:\n",
    "        DS=etree.SubElement(Ingest,'dateStamp')\n",
    "        \n",
    "   print etree.tostring(DS)\n"
   ]
  },
  {
   "cell_type": "code",
   "execution_count": 22,
   "metadata": {
    "collapsed": false
   },
   "outputs": [
    {
     "name": "stdout",
     "output_type": "stream",
     "text": [
      "<dateStamp>\n",
      "      <DateTime>2015-09-18T10:49:43.745182</DateTime>\n",
      "    <DateTime>2015-09-29T07:35:29.361131</DateTime><DateTime>2015-09-29T07:36:07.191947</DateTime><DateTime>2015-09-29T07:36:35.343812</DateTime><DateTime>2015-09-29T07:37:14.898476</DateTime><DateTime modified_by=\"duncombe\"/></dateStamp>\n",
      "  \n",
      "\n",
      "<dateStamp>\n",
      "      <DateTime>2015-09-18T10:49:43.745182</DateTime>\n",
      "    <DateTime>2015-09-29T07:35:29.361131</DateTime><DateTime>2015-09-29T07:36:07.191947</DateTime><DateTime>2015-09-29T07:36:35.343812</DateTime><DateTime>2015-09-29T07:37:14.898476</DateTime><DateTime modified_by=\"duncombe\">2015-09-29T07:42:31.642566</DateTime></dateStamp>\n",
      "  \n",
      "\n"
     ]
    }
   ],
   "source": [
    "   import getpass\n",
    "    \n",
    "   DS.append(etree.Element(\"DateTime\", modified_by=getpass.getuser()))\n",
    "   \n",
    "   print etree.tostring(DS,pretty_print=True)\n",
    "    \n",
    "   DS[-1].text=datetime.datetime.utcnow().isoformat()\n",
    "   \n",
    "   print etree.tostring(DS, pretty_print=True)\n",
    "                                              \n",
    "                     "
   ]
  },
  {
   "cell_type": "code",
   "execution_count": 197,
   "metadata": {
    "collapsed": false
   },
   "outputs": [
    {
     "name": "stdout",
     "output_type": "stream",
     "text": [
      "<dateStamp>\n",
      "      <DateTime>2015-09-29T07:21:15.783684</DateTime>\n",
      "    <DateTime/></dateStamp>\n",
      "  \n"
     ]
    }
   ],
   "source": [
    "        print etree.tostring(DS)\n",
    "        \n",
    "# print etree.tostring(Ingest)"
   ]
  },
  {
   "cell_type": "code",
   "execution_count": 24,
   "metadata": {
    "collapsed": false
   },
   "outputs": [
    {
     "data": {
      "text/plain": [
       "'2015-09-18T10:49:43.745182'"
      ]
     },
     "execution_count": 24,
     "metadata": {},
     "output_type": "execute_result"
    }
   ],
   "source": [
    "str(accdate)"
   ]
  },
  {
   "cell_type": "code",
   "execution_count": 32,
   "metadata": {
    "collapsed": false
   },
   "outputs": [
    {
     "data": {
      "text/plain": [
       "str"
      ]
     },
     "execution_count": 32,
     "metadata": {},
     "output_type": "execute_result"
    }
   ],
   "source": [
    "D=(datetime.datetime.utcnow().isoformat())\n",
    "type(D)"
   ]
  },
  {
   "cell_type": "code",
   "execution_count": null,
   "metadata": {
    "collapsed": true
   },
   "outputs": [],
   "source": []
  },
  {
   "cell_type": "code",
   "execution_count": null,
   "metadata": {
    "collapsed": true
   },
   "outputs": [],
   "source": []
  },
  {
   "cell_type": "code",
   "execution_count": null,
   "metadata": {
    "collapsed": true
   },
   "outputs": [],
   "source": []
  },
  {
   "cell_type": "code",
   "execution_count": null,
   "metadata": {
    "collapsed": true
   },
   "outputs": [],
   "source": [
    "\n",
    "\n"
   ]
  },
  {
   "cell_type": "code",
   "execution_count": null,
   "metadata": {
    "collapsed": true
   },
   "outputs": [],
   "source": []
  }
 ],
 "metadata": {
  "kernelspec": {
   "display_name": "Python 2",
   "language": "python",
   "name": "python2"
  },
  "language_info": {
   "codemirror_mode": {
    "name": "ipython",
    "version": 2
   },
   "file_extension": ".py",
   "mimetype": "text/x-python",
   "name": "python",
   "nbconvert_exporter": "python",
   "pygments_lexer": "ipython2",
   "version": "2.7.10"
  }
 },
 "nbformat": 4,
 "nbformat_minor": 0
}
